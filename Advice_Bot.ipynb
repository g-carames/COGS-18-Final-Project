{
 "cells": [
  {
   "cell_type": "markdown",
   "id": "252e4834",
   "metadata": {},
   "source": [
    "# Welcome to your Advice Bot!\n",
    "This Chatbot is built as an environment where you can store advice for your future self. Then, whenever you'd like to, you can hear some wise words from your past self. "
   ]
  },
  {
   "cell_type": "code",
   "execution_count": 1,
   "id": "4b64d91c",
   "metadata": {},
   "outputs": [],
   "source": [
    "# Importing necessary python components \n",
    "import random\n",
    "import string\n",
    "import json\n",
    "import nltk\n",
    "\n",
    "#importing functions as f to simplify writing\n",
    "import functions as f"
   ]
  },
  {
   "cell_type": "code",
   "execution_count": 2,
   "id": "54599592",
   "metadata": {},
   "outputs": [],
   "source": [
    "\"\"\"Creates some base greeting responses.\"\"\"\n",
    "\n",
    "greeting_in = ['hello', 'hi', 'hey', 'yo', 'greetings', 'hola']\n",
    "greeting_out = [\"hello! i'd love to hear advice for future you, or if you've created some, say 'share my wise words'\", \n",
    "               \"hey there! would you like to hear some wise words? or are you here to share some?\"]\n"
   ]
  },
  {
   "cell_type": "code",
   "execution_count": 3,
   "id": "fae31977",
   "metadata": {},
   "outputs": [],
   "source": [
    "def advice_bot():\n",
    "    \"\"\"Main function to run chatbot.\"\"\"\n",
    "    \n",
    "    chat = True\n",
    "    while chat: \n",
    "        \n",
    "        #get input chat\n",
    "        user_input = input('INPUT:\\t')\n",
    "        out_msg = None\n",
    "        \n",
    "        #prepare the input message\n",
    "        msg = f.prepare_text(user_input)\n",
    "        \n",
    "        #check if input needs to be stored, and if so store it\n",
    "        out_msg = f.store_advice(user_input)\n",
    "           \n",
    "        #check for ending chat\n",
    "        if f.end_chat(user_input):\n",
    "            out_msg = 'ok, bye!'\n",
    "            chat = False\n",
    "            \n",
    "        #if not quitting chat, select response\n",
    "        if not out_msg:\n",
    "            \n",
    "            #check for greeting\n",
    "            out_msg = f.selector(msg, greeting_in, greeting_out)\n",
    "        \n",
    "        #outputs advice when it's requested\n",
    "        if not out_msg:\n",
    "            out_msg = f.output_advice(user_input)\n",
    "        \n",
    "        print('OUTPUT:', out_msg)"
   ]
  },
  {
   "cell_type": "markdown",
   "id": "e3cb4e0c",
   "metadata": {},
   "source": [
    "# Talk to Your Bot!\n",
    "Make sure to restart and run all kernels before use.\n",
    "\n",
    "\n",
    "__Guidelines:__\n",
    "\n",
    "Greet your bot!\n",
    "\n",
    "To store advice for later make sure to type \"for later:\" followed by the advice you would like to store (all in one input line!). For example, input, \"for later: never give up\". Feel free to do this many times and store lots of advice for your future self!\n",
    "\n",
    "To hear some advice you've previously stored, input \"share my wise words\".\n",
    "\n",
    "To exit the chat type \"quit\"."
   ]
  },
  {
   "cell_type": "code",
   "execution_count": null,
   "id": "685971da",
   "metadata": {},
   "outputs": [],
   "source": [
    "advice_bot()"
   ]
  },
  {
   "cell_type": "markdown",
   "id": "cbccb1a3",
   "metadata": {
    "slideshow": {
     "slide_type": "slide"
    }
   },
   "source": [
    "__Extra Credit: Above and Beyond__\n",
    "\n",
    "This project approach was particularly challenging for me as I had never worked with json files in this manner before. So this not only led to frequent mistakes and debugging processes, but it required me to research how json files work in python. Furthermore, I learned more extensively the meaning behind the syntax of \"try\" and \"except\", and how to use it for the functions involving the json file, including accounting for errors in the program. One big roadblock I experienced until I learned how to change it, was getting the store_advice function to keep adding advice with every user input rather than replace the previously stored phrase. "
   ]
  }
 ],
 "metadata": {
  "kernelspec": {
   "display_name": "Python 3 (ipykernel)",
   "language": "python",
   "name": "python3"
  },
  "language_info": {
   "codemirror_mode": {
    "name": "ipython",
    "version": 3
   },
   "file_extension": ".py",
   "mimetype": "text/x-python",
   "name": "python",
   "nbconvert_exporter": "python",
   "pygments_lexer": "ipython3",
   "version": "3.9.5"
  }
 },
 "nbformat": 4,
 "nbformat_minor": 5
}
